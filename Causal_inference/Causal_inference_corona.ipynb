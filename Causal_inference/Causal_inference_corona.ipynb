{
 "cells": [
  {
   "cell_type": "code",
   "execution_count": 4,
   "metadata": {},
   "outputs": [],
   "source": [
    "##################################Causal Inference Corona\n",
    "\n",
    "\n",
    "import numpy as np\n",
    "import pandas as pd\n",
    "import dowhy\n",
    "from dowhy import CausalModel\n",
    "import dowhy.datasets\n",
    "import dowhy.api"
   ]
  },
  {
   "cell_type": "code",
   "execution_count": 5,
   "metadata": {},
   "outputs": [],
   "source": [
    "##data import\n",
    "\n",
    "df = pd.read_csv(\"C:/Users/bless/OneDrive/Documents/TrendingVirus/Final_Project_dataset_V5.csv\",index_col=None)"
   ]
  },
  {
   "cell_type": "code",
   "execution_count": 6,
   "metadata": {},
   "outputs": [
    {
     "data": {
      "text/html": [
       "<div>\n",
       "<style scoped>\n",
       "    .dataframe tbody tr th:only-of-type {\n",
       "        vertical-align: middle;\n",
       "    }\n",
       "\n",
       "    .dataframe tbody tr th {\n",
       "        vertical-align: top;\n",
       "    }\n",
       "\n",
       "    .dataframe thead th {\n",
       "        text-align: right;\n",
       "    }\n",
       "</style>\n",
       "<table border=\"1\" class=\"dataframe\">\n",
       "  <thead>\n",
       "    <tr style=\"text-align: right;\">\n",
       "      <th></th>\n",
       "      <th>Age</th>\n",
       "      <th>YO</th>\n",
       "      <th>Sex</th>\n",
       "      <th>Health care worker</th>\n",
       "      <th>Comorbidities</th>\n",
       "      <th>Exposure to camels</th>\n",
       "      <th>Camel milk consumption</th>\n",
       "      <th>Exposure to MERS-CoV cases</th>\n",
       "      <th>Day_diff</th>\n",
       "      <th>target</th>\n",
       "    </tr>\n",
       "  </thead>\n",
       "  <tbody>\n",
       "    <tr>\n",
       "      <th>0</th>\n",
       "      <td>67</td>\n",
       "      <td>0</td>\n",
       "      <td>0</td>\n",
       "      <td>0</td>\n",
       "      <td>Yes</td>\n",
       "      <td>1</td>\n",
       "      <td>0</td>\n",
       "      <td>0</td>\n",
       "      <td>2.0</td>\n",
       "      <td>1</td>\n",
       "    </tr>\n",
       "    <tr>\n",
       "      <th>1</th>\n",
       "      <td>69</td>\n",
       "      <td>0</td>\n",
       "      <td>0</td>\n",
       "      <td>0</td>\n",
       "      <td>Yes</td>\n",
       "      <td>0</td>\n",
       "      <td>0</td>\n",
       "      <td>0</td>\n",
       "      <td>2.0</td>\n",
       "      <td>1</td>\n",
       "    </tr>\n",
       "    <tr>\n",
       "      <th>2</th>\n",
       "      <td>51</td>\n",
       "      <td>0</td>\n",
       "      <td>0</td>\n",
       "      <td>0</td>\n",
       "      <td>Yes</td>\n",
       "      <td>0</td>\n",
       "      <td>0</td>\n",
       "      <td>0</td>\n",
       "      <td>6.0</td>\n",
       "      <td>1</td>\n",
       "    </tr>\n",
       "    <tr>\n",
       "      <th>3</th>\n",
       "      <td>48</td>\n",
       "      <td>0</td>\n",
       "      <td>0</td>\n",
       "      <td>0</td>\n",
       "      <td>Yes</td>\n",
       "      <td>1</td>\n",
       "      <td>1</td>\n",
       "      <td>0</td>\n",
       "      <td>2.0</td>\n",
       "      <td>1</td>\n",
       "    </tr>\n",
       "    <tr>\n",
       "      <th>4</th>\n",
       "      <td>40</td>\n",
       "      <td>1</td>\n",
       "      <td>1</td>\n",
       "      <td>0</td>\n",
       "      <td>Yes</td>\n",
       "      <td>0</td>\n",
       "      <td>0</td>\n",
       "      <td>0</td>\n",
       "      <td>5.0</td>\n",
       "      <td>1</td>\n",
       "    </tr>\n",
       "  </tbody>\n",
       "</table>\n",
       "</div>"
      ],
      "text/plain": [
       "   Age  YO  Sex  Health care worker Comorbidities  Exposure to camels  \\\n",
       "0   67   0    0                   0           Yes                   1   \n",
       "1   69   0    0                   0           Yes                   0   \n",
       "2   51   0    0                   0           Yes                   0   \n",
       "3   48   0    0                   0           Yes                   1   \n",
       "4   40   1    1                   0           Yes                   0   \n",
       "\n",
       "   Camel milk consumption  Exposure to MERS-CoV cases  Day_diff  target  \n",
       "0                       0                           0       2.0       1  \n",
       "1                       0                           0       2.0       1  \n",
       "2                       0                           0       6.0       1  \n",
       "3                       1                           0       2.0       1  \n",
       "4                       0                           0       5.0       1  "
      ]
     },
     "execution_count": 6,
     "metadata": {},
     "output_type": "execute_result"
    }
   ],
   "source": [
    "df.head()"
   ]
  },
  {
   "cell_type": "code",
   "execution_count": 7,
   "metadata": {},
   "outputs": [
    {
     "data": {
      "text/html": [
       "<div>\n",
       "<style scoped>\n",
       "    .dataframe tbody tr th:only-of-type {\n",
       "        vertical-align: middle;\n",
       "    }\n",
       "\n",
       "    .dataframe tbody tr th {\n",
       "        vertical-align: top;\n",
       "    }\n",
       "\n",
       "    .dataframe thead th {\n",
       "        text-align: right;\n",
       "    }\n",
       "</style>\n",
       "<table border=\"1\" class=\"dataframe\">\n",
       "  <thead>\n",
       "    <tr style=\"text-align: right;\">\n",
       "      <th></th>\n",
       "      <th>Age</th>\n",
       "      <th>YO</th>\n",
       "      <th>Sex</th>\n",
       "      <th>Health care worker</th>\n",
       "      <th>Comorbidities</th>\n",
       "      <th>Exposure to camels</th>\n",
       "      <th>Camel milk consumption</th>\n",
       "      <th>Exposure to MERS-CoV cases</th>\n",
       "      <th>Day_diff</th>\n",
       "      <th>target</th>\n",
       "    </tr>\n",
       "  </thead>\n",
       "  <tbody>\n",
       "    <tr>\n",
       "      <th>0</th>\n",
       "      <td>False</td>\n",
       "      <td>0</td>\n",
       "      <td>False</td>\n",
       "      <td>0</td>\n",
       "      <td>Yes</td>\n",
       "      <td>1</td>\n",
       "      <td>0</td>\n",
       "      <td>0</td>\n",
       "      <td>2.0</td>\n",
       "      <td>1</td>\n",
       "    </tr>\n",
       "    <tr>\n",
       "      <th>1</th>\n",
       "      <td>False</td>\n",
       "      <td>0</td>\n",
       "      <td>False</td>\n",
       "      <td>0</td>\n",
       "      <td>Yes</td>\n",
       "      <td>0</td>\n",
       "      <td>0</td>\n",
       "      <td>0</td>\n",
       "      <td>2.0</td>\n",
       "      <td>1</td>\n",
       "    </tr>\n",
       "    <tr>\n",
       "      <th>2</th>\n",
       "      <td>False</td>\n",
       "      <td>0</td>\n",
       "      <td>False</td>\n",
       "      <td>0</td>\n",
       "      <td>Yes</td>\n",
       "      <td>0</td>\n",
       "      <td>0</td>\n",
       "      <td>0</td>\n",
       "      <td>6.0</td>\n",
       "      <td>1</td>\n",
       "    </tr>\n",
       "    <tr>\n",
       "      <th>3</th>\n",
       "      <td>False</td>\n",
       "      <td>0</td>\n",
       "      <td>False</td>\n",
       "      <td>0</td>\n",
       "      <td>Yes</td>\n",
       "      <td>1</td>\n",
       "      <td>1</td>\n",
       "      <td>0</td>\n",
       "      <td>2.0</td>\n",
       "      <td>1</td>\n",
       "    </tr>\n",
       "    <tr>\n",
       "      <th>4</th>\n",
       "      <td>False</td>\n",
       "      <td>1</td>\n",
       "      <td>True</td>\n",
       "      <td>0</td>\n",
       "      <td>Yes</td>\n",
       "      <td>0</td>\n",
       "      <td>0</td>\n",
       "      <td>0</td>\n",
       "      <td>5.0</td>\n",
       "      <td>1</td>\n",
       "    </tr>\n",
       "  </tbody>\n",
       "</table>\n",
       "</div>"
      ],
      "text/plain": [
       "     Age  YO    Sex  Health care worker Comorbidities  Exposure to camels  \\\n",
       "0  False   0  False                   0           Yes                   1   \n",
       "1  False   0  False                   0           Yes                   0   \n",
       "2  False   0  False                   0           Yes                   0   \n",
       "3  False   0  False                   0           Yes                   1   \n",
       "4  False   1   True                   0           Yes                   0   \n",
       "\n",
       "   Camel milk consumption  Exposure to MERS-CoV cases  Day_diff  target  \n",
       "0                       0                           0       2.0       1  \n",
       "1                       0                           0       2.0       1  \n",
       "2                       0                           0       6.0       1  \n",
       "3                       1                           0       2.0       1  \n",
       "4                       0                           0       5.0       1  "
      ]
     },
     "execution_count": 7,
     "metadata": {},
     "output_type": "execute_result"
    }
   ],
   "source": [
    "df.Sex = df.Sex==1.0\n",
    "df.Age = df.Age<18\n",
    "\n",
    "df.head()"
   ]
  },
  {
   "cell_type": "code",
   "execution_count": 8,
   "metadata": {},
   "outputs": [],
   "source": [
    "df['Exposure to MERS-CoV cases'] = df['Exposure to MERS-CoV cases']==1.0"
   ]
  },
  {
   "cell_type": "code",
   "execution_count": 9,
   "metadata": {},
   "outputs": [],
   "source": [
    "df.Day_diff = df.Day_diff<3"
   ]
  },
  {
   "cell_type": "code",
   "execution_count": 10,
   "metadata": {},
   "outputs": [
    {
     "data": {
      "text/html": [
       "<div>\n",
       "<style scoped>\n",
       "    .dataframe tbody tr th:only-of-type {\n",
       "        vertical-align: middle;\n",
       "    }\n",
       "\n",
       "    .dataframe tbody tr th {\n",
       "        vertical-align: top;\n",
       "    }\n",
       "\n",
       "    .dataframe thead th {\n",
       "        text-align: right;\n",
       "    }\n",
       "</style>\n",
       "<table border=\"1\" class=\"dataframe\">\n",
       "  <thead>\n",
       "    <tr style=\"text-align: right;\">\n",
       "      <th></th>\n",
       "      <th>Age</th>\n",
       "      <th>YO</th>\n",
       "      <th>Sex</th>\n",
       "      <th>Health care worker</th>\n",
       "      <th>Comorbidities</th>\n",
       "      <th>Exposure to camels</th>\n",
       "      <th>Camel milk consumption</th>\n",
       "      <th>Exposure to MERS-CoV cases</th>\n",
       "      <th>Day_diff</th>\n",
       "      <th>target</th>\n",
       "    </tr>\n",
       "  </thead>\n",
       "  <tbody>\n",
       "    <tr>\n",
       "      <th>0</th>\n",
       "      <td>False</td>\n",
       "      <td>0</td>\n",
       "      <td>False</td>\n",
       "      <td>0</td>\n",
       "      <td>Yes</td>\n",
       "      <td>1</td>\n",
       "      <td>0</td>\n",
       "      <td>False</td>\n",
       "      <td>True</td>\n",
       "      <td>True</td>\n",
       "    </tr>\n",
       "    <tr>\n",
       "      <th>1</th>\n",
       "      <td>False</td>\n",
       "      <td>0</td>\n",
       "      <td>False</td>\n",
       "      <td>0</td>\n",
       "      <td>Yes</td>\n",
       "      <td>0</td>\n",
       "      <td>0</td>\n",
       "      <td>False</td>\n",
       "      <td>True</td>\n",
       "      <td>True</td>\n",
       "    </tr>\n",
       "    <tr>\n",
       "      <th>2</th>\n",
       "      <td>False</td>\n",
       "      <td>0</td>\n",
       "      <td>False</td>\n",
       "      <td>0</td>\n",
       "      <td>Yes</td>\n",
       "      <td>0</td>\n",
       "      <td>0</td>\n",
       "      <td>False</td>\n",
       "      <td>False</td>\n",
       "      <td>True</td>\n",
       "    </tr>\n",
       "    <tr>\n",
       "      <th>3</th>\n",
       "      <td>False</td>\n",
       "      <td>0</td>\n",
       "      <td>False</td>\n",
       "      <td>0</td>\n",
       "      <td>Yes</td>\n",
       "      <td>1</td>\n",
       "      <td>1</td>\n",
       "      <td>False</td>\n",
       "      <td>True</td>\n",
       "      <td>True</td>\n",
       "    </tr>\n",
       "    <tr>\n",
       "      <th>4</th>\n",
       "      <td>False</td>\n",
       "      <td>1</td>\n",
       "      <td>True</td>\n",
       "      <td>0</td>\n",
       "      <td>Yes</td>\n",
       "      <td>0</td>\n",
       "      <td>0</td>\n",
       "      <td>False</td>\n",
       "      <td>False</td>\n",
       "      <td>True</td>\n",
       "    </tr>\n",
       "  </tbody>\n",
       "</table>\n",
       "</div>"
      ],
      "text/plain": [
       "     Age  YO    Sex  Health care worker Comorbidities  Exposure to camels  \\\n",
       "0  False   0  False                   0           Yes                   1   \n",
       "1  False   0  False                   0           Yes                   0   \n",
       "2  False   0  False                   0           Yes                   0   \n",
       "3  False   0  False                   0           Yes                   1   \n",
       "4  False   1   True                   0           Yes                   0   \n",
       "\n",
       "   Camel milk consumption  Exposure to MERS-CoV cases  Day_diff  target  \n",
       "0                       0                       False      True    True  \n",
       "1                       0                       False      True    True  \n",
       "2                       0                       False     False    True  \n",
       "3                       1                       False      True    True  \n",
       "4                       0                       False     False    True  "
      ]
     },
     "execution_count": 10,
     "metadata": {},
     "output_type": "execute_result"
    }
   ],
   "source": [
    "df.target = df.target==1.0\n",
    "\n",
    "df.head()"
   ]
  },
  {
   "cell_type": "code",
   "execution_count": 11,
   "metadata": {},
   "outputs": [
    {
     "name": "stderr",
     "output_type": "stream",
     "text": [
      "WARNING:dowhy.causal_model:Causal Graph not provided. DoWhy will construct a graph based on data inputs.\n",
      "INFO:dowhy.causal_graph:If this is observed data (not from a randomized experiment), there might always be missing confounders. Adding a node named \"Unobserved Confounders\" to reflect this.\n",
      "INFO:dowhy.causal_model:Model to find the causal effect of treatment ['Age'] on outcome ['target']\n",
      "INFO:dowhy.causal_identifier:Common causes of treatment and outcome:['Health care worker', 'Day_diff', 'Camel milk consumption', 'Exposure to camels', 'U', 'Sex', 'Exposure to MERS-CoV cases']\n",
      "WARNING:dowhy.causal_identifier:If this is observed data (not from a randomized experiment), there might always be missing confounders. Causal effect cannot be identified perfectly.\n"
     ]
    },
    {
     "name": "stdout",
     "output_type": "stream",
     "text": [
      "WARN: Do you want to continue by ignoring any unobserved confounders? (use proceed_when_unidentifiable=True to disable this prompt) [y/n] y\n"
     ]
    },
    {
     "name": "stderr",
     "output_type": "stream",
     "text": [
      "INFO:dowhy.causal_identifier:Instrumental variables for treatment and outcome:[]\n",
      "INFO:dowhy.do_sampler:Using WeightingSampler for do sampling.\n",
      "INFO:dowhy.do_sampler:Caution: do samplers assume iid data.\n"
     ]
    }
   ],
   "source": [
    "# define treatment and target\n",
    "\n",
    "df = df.causal.do(x='Age',\n",
    "                  outcome='target',\n",
    "                  common_causes=['Sex','Health care worker','Exposure to camels','Camel milk consumption','Exposure to MERS-CoV cases'\n",
    ",'Day_diff'],\n",
    "                  variable_types={'Sex':'b','Health care worker':'d','Exposure to camels':'d','Camel milk consumption':'d','Exposure to MERS-CoV cases':'d','Day_diff':'d','target':'b','Age':'b'})"
   ]
  },
  {
   "cell_type": "code",
   "execution_count": 14,
   "metadata": {},
   "outputs": [
    {
     "name": "stderr",
     "output_type": "stream",
     "text": [
      "WARNING:dowhy.causal_model:Causal Graph not provided. DoWhy will construct a graph based on data inputs.\n",
      "INFO:dowhy.causal_graph:If this is observed data (not from a randomized experiment), there might always be missing confounders. Adding a node named \"Unobserved Confounders\" to reflect this.\n",
      "INFO:dowhy.causal_model:Model to find the causal effect of treatment ['Age'] on outcome ['target']\n",
      "WARNING:dowhy.causal_graph:Warning: Pygraphviz cannot be loaded. Check that graphviz and pygraphviz are installed.\n",
      "INFO:dowhy.causal_graph:Using Matplotlib for plotting\n"
     ]
    },
    {
     "data": {
      "image/png": "[encoded data removed]",
      "text/plain": [
       "<Figure size 432x288 with 1 Axes>"
      ]
     },
     "metadata": {},
     "output_type": "display_data"
    }
   ],
   "source": [
    "model= CausalModel(\n",
    "        data=df,\n",
    "        treatment='Age',\n",
    "        outcome='target',\n",
    "        common_causes=['Sex','Health care worker','Exposure to camels','Camel milk consumption','Exposure to MERS-CoV cases'\n",
    ",'Day_diff'],\n",
    "        variable_typesvariable_types={'Sex':'b','Health care worker':'d','Exposure to camels':'d','Camel milk consumption':'d','Exposure to MERS-CoV cases':'d','Day_diff':'d','target':'b','Age':'b'},instruments=[])\n",
    "model.view_model(layout=\"dot\")"
   ]
  },
  {
   "cell_type": "code",
   "execution_count": 15,
   "metadata": {},
   "outputs": [
    {
     "data": {
      "image/png": "[encoded data removed]",
      "text/plain": [
       "<IPython.core.display.Image object>"
      ]
     },
     "metadata": {},
     "output_type": "display_data"
    }
   ],
   "source": [
    "from IPython.display import Image, display\n",
    "display(Image(filename=\"causal_model.png\"))"
   ]
  },
  {
   "cell_type": "code",
   "execution_count": 16,
   "metadata": {},
   "outputs": [
    {
     "name": "stderr",
     "output_type": "stream",
     "text": [
      "INFO:dowhy.causal_identifier:Common causes of treatment and outcome:['Health care worker', 'Day_diff', 'Camel milk consumption', 'Exposure to camels', 'U', 'Sex', 'Exposure to MERS-CoV cases']\n",
      "WARNING:dowhy.causal_identifier:If this is observed data (not from a randomized experiment), there might always be missing confounders. Causal effect cannot be identified perfectly.\n",
      "INFO:dowhy.causal_identifier:Continuing by ignoring these unobserved confounders because proceed_when_unidentifiable flag is True.\n",
      "INFO:dowhy.causal_identifier:Instrumental variables for treatment and outcome:[]\n"
     ]
    },
    {
     "name": "stdout",
     "output_type": "stream",
     "text": [
      "Estimand type: nonparametric-ate\n",
      "### Estimand : 1\n",
      "Estimand name: backdoor\n",
      "Estimand expression:\n",
      "  d                                                                           \n",
      "──────(Expectation(target|Health care worker,Day_diff,Camel milk consumption,E\n",
      "d[Age]                                                                        \n",
      "\n",
      "                                                  \n",
      "xposure to camels,Sex,Exposure to MERS-CoV cases))\n",
      "                                                  \n",
      "Estimand assumption 1, Unconfoundedness: If U→{Age} and U→target then P(target|Age,Health care worker,Day_diff,Camel milk consumption,Exposure to camels,Sex,Exposure to MERS-CoV cases,U) = P(target|Age,Health care worker,Day_diff,Camel milk consumption,Exposure to camels,Sex,Exposure to MERS-CoV cases)\n",
      "### Estimand : 2\n",
      "Estimand name: iv\n",
      "No such variable found!\n",
      "\n"
     ]
    }
   ],
   "source": [
    "identified_estimand = model.identify_effect(proceed_when_unidentifiable=True)\n",
    "print(identified_estimand)"
   ]
  },
  {
   "cell_type": "code",
   "execution_count": 18,
   "metadata": {},
   "outputs": [
    {
     "data": {
      "text/plain": [
       "<dowhy.causal_identifier.IdentifiedEstimand at 0x1f265615ac8>"
      ]
     },
     "execution_count": 18,
     "metadata": {},
     "output_type": "execute_result"
    }
   ],
   "source": [
    "identified_estimand"
   ]
  },
  {
   "cell_type": "code",
   "execution_count": 19,
   "metadata": {},
   "outputs": [],
   "source": [
    "df = df.dropna()"
   ]
  },
  {
   "cell_type": "code",
   "execution_count": 20,
   "metadata": {},
   "outputs": [
    {
     "name": "stderr",
     "output_type": "stream",
     "text": [
      "INFO:dowhy.causal_estimator:INFO: Using Propensity Score Stratification Estimator\n",
      "INFO:dowhy.causal_estimator:b: target~Age+Health care worker+Day_diff+Camel milk consumption+Exposure to camels+Sex+Exposure to MERS-CoV cases\n"
     ]
    },
    {
     "name": "stdout",
     "output_type": "stream",
     "text": [
      "*** Causal Estimate ***\n",
      "\n",
      "## Target estimand\n",
      "Estimand type: nonparametric-ate\n",
      "### Estimand : 1\n",
      "Estimand name: backdoor\n",
      "Estimand expression:\n",
      "  d                                                                           \n",
      "──────(Expectation(target|Health care worker,Day_diff,Camel milk consumption,E\n",
      "d[Age]                                                                        \n",
      "\n",
      "                                                  \n",
      "xposure to camels,Sex,Exposure to MERS-CoV cases))\n",
      "                                                  \n",
      "Estimand assumption 1, Unconfoundedness: If U→{Age} and U→target then P(target|Age,Health care worker,Day_diff,Camel milk consumption,Exposure to camels,Sex,Exposure to MERS-CoV cases,U) = P(target|Age,Health care worker,Day_diff,Camel milk consumption,Exposure to camels,Sex,Exposure to MERS-CoV cases)\n",
      "### Estimand : 2\n",
      "Estimand name: iv\n",
      "No such variable found!\n",
      "\n",
      "## Realized estimand\n",
      "b: target~Age+Health care worker+Day_diff+Camel milk consumption+Exposure to camels+Sex+Exposure to MERS-CoV cases\n",
      "## Estimate\n",
      "Value: -0.014324622921732887\n",
      "\n",
      "Causal Estimate is -0.014324622921732887\n"
     ]
    },
    {
     "name": "stderr",
     "output_type": "stream",
     "text": [
      "C:\\Users\\bless\\AppData\\Local\\Continuum\\anaconda3\\envs\\mma_2\\lib\\site-packages\\sklearn\\linear_model\\logistic.py:432: FutureWarning: Default solver will be changed to 'lbfgs' in 0.22. Specify a solver to silence this warning.\n",
      "  FutureWarning)\n",
      "C:\\Users\\bless\\AppData\\Local\\Continuum\\anaconda3\\envs\\mma_2\\lib\\site-packages\\sklearn\\utils\\validation.py:724: DataConversionWarning: A column-vector y was passed when a 1d array was expected. Please change the shape of y to (n_samples, ), for example using ravel().\n",
      "  y = column_or_1d(y, warn=True)\n",
      "C:\\Users\\bless\\AppData\\Local\\Continuum\\anaconda3\\envs\\mma_2\\lib\\site-packages\\pandas\\core\\computation\\expressions.py:183: UserWarning: evaluating in Python space because the '*' operator is not supported by numexpr for the bool dtype, use '&' instead\n",
      "  .format(op=op_str, alt_op=unsupported[op_str]))\n"
     ]
    }
   ],
   "source": [
    "causal_estimate = model.estimate_effect(identified_estimand,method_name=\"backdoor.propensity_score_stratification\")\n",
    "print(causal_estimate)\n",
    "print(\"Causal Estimate is \" + str(causal_estimate.value))"
   ]
  },
  {
   "cell_type": "code",
   "execution_count": 21,
   "metadata": {},
   "outputs": [
    {
     "data": {
      "text/plain": [
       "<dowhy.causal_model.CausalModel at 0x1f2679055f8>"
      ]
     },
     "execution_count": 21,
     "metadata": {},
     "output_type": "execute_result"
    }
   ],
   "source": [
    "model"
   ]
  },
  {
   "cell_type": "code",
   "execution_count": 22,
   "metadata": {},
   "outputs": [
    {
     "name": "stderr",
     "output_type": "stream",
     "text": [
      "INFO:dowhy.causal_estimator:INFO: Using Propensity Score Stratification Estimator\n",
      "INFO:dowhy.causal_estimator:b: target~Age+Health care worker+Day_diff+Camel milk consumption+Exposure to camels+Sex+Exposure to MERS-CoV cases\n"
     ]
    },
    {
     "name": "stdout",
     "output_type": "stream",
     "text": [
      "*** Causal Estimate ***\n",
      "\n",
      "## Target estimand\n",
      "Estimand type: nonparametric-ate\n",
      "### Estimand : 1\n",
      "Estimand name: backdoor\n",
      "Estimand expression:\n",
      "  d                                                                           \n",
      "──────(Expectation(target|Health care worker,Day_diff,Camel milk consumption,E\n",
      "d[Age]                                                                        \n",
      "\n",
      "                                                  \n",
      "xposure to camels,Sex,Exposure to MERS-CoV cases))\n",
      "                                                  \n",
      "Estimand assumption 1, Unconfoundedness: If U→{Age} and U→target then P(target|Age,Health care worker,Day_diff,Camel milk consumption,Exposure to camels,Sex,Exposure to MERS-CoV cases,U) = P(target|Age,Health care worker,Day_diff,Camel milk consumption,Exposure to camels,Sex,Exposure to MERS-CoV cases)\n",
      "### Estimand : 2\n",
      "Estimand name: iv\n",
      "No such variable found!\n",
      "\n",
      "## Realized estimand\n",
      "b: target~Age+Health care worker+Day_diff+Camel milk consumption+Exposure to camels+Sex+Exposure to MERS-CoV cases\n",
      "## Estimate\n",
      "Value: -0.15256410256410252\n",
      "\n",
      "Causal Estimate is -0.15256410256410252\n"
     ]
    },
    {
     "name": "stderr",
     "output_type": "stream",
     "text": [
      "C:\\Users\\bless\\AppData\\Local\\Continuum\\anaconda3\\envs\\mma_2\\lib\\site-packages\\sklearn\\linear_model\\logistic.py:432: FutureWarning: Default solver will be changed to 'lbfgs' in 0.22. Specify a solver to silence this warning.\n",
      "  FutureWarning)\n",
      "C:\\Users\\bless\\AppData\\Local\\Continuum\\anaconda3\\envs\\mma_2\\lib\\site-packages\\sklearn\\utils\\validation.py:724: DataConversionWarning: A column-vector y was passed when a 1d array was expected. Please change the shape of y to (n_samples, ), for example using ravel().\n",
      "  y = column_or_1d(y, warn=True)\n",
      "C:\\Users\\bless\\AppData\\Local\\Continuum\\anaconda3\\envs\\mma_2\\lib\\site-packages\\pandas\\core\\computation\\expressions.py:183: UserWarning: evaluating in Python space because the '*' operator is not supported by numexpr for the bool dtype, use '&' instead\n",
      "  .format(op=op_str, alt_op=unsupported[op_str]))\n"
     ]
    }
   ],
   "source": [
    "# Causal effect on the control group (ATC)\n",
    "causal_estimate_att = model.estimate_effect(identified_estimand,\n",
    "        method_name=\"backdoor.propensity_score_stratification\",\n",
    "        target_units = \"atc\")\n",
    "print(causal_estimate_att)\n",
    "print(\"Causal Estimate is \" + str(causal_estimate_att.value))"
   ]
  },
  {
   "cell_type": "code",
   "execution_count": 23,
   "metadata": {},
   "outputs": [
    {
     "name": "stderr",
     "output_type": "stream",
     "text": [
      "WARNING:dowhy.causal_model:Causal Graph not provided. DoWhy will construct a graph based on data inputs.\n",
      "INFO:dowhy.causal_graph:If this is observed data (not from a randomized experiment), there might always be missing confounders. Adding a node named \"Unobserved Confounders\" to reflect this.\n",
      "INFO:dowhy.causal_model:Model to find the causal effect of treatment ['Exposure to MERS-CoV cases'] on outcome ['target']\n",
      "INFO:dowhy.causal_identifier:Common causes of treatment and outcome:['Health care worker', 'Day_diff', 'Camel milk consumption', 'Exposure to camels', 'U', 'Sex']\n",
      "WARNING:dowhy.causal_identifier:If this is observed data (not from a randomized experiment), there might always be missing confounders. Causal effect cannot be identified perfectly.\n"
     ]
    },
    {
     "name": "stdout",
     "output_type": "stream",
     "text": [
      "WARN: Do you want to continue by ignoring any unobserved confounders? (use proceed_when_unidentifiable=True to disable this prompt) [y/n] y\n"
     ]
    },
    {
     "name": "stderr",
     "output_type": "stream",
     "text": [
      "INFO:dowhy.causal_identifier:Instrumental variables for treatment and outcome:[]\n",
      "INFO:dowhy.do_sampler:Using WeightingSampler for do sampling.\n",
      "INFO:dowhy.do_sampler:Caution: do samplers assume iid data.\n"
     ]
    }
   ],
   "source": [
    "##considering new treatment \n",
    "\n",
    "### Exposure to MERS-CoV cases considered\n",
    "\n",
    "df = df.causal.do(x='Exposure to MERS-CoV cases',\n",
    "                  outcome='target',\n",
    "                  common_causes=['Sex','Health care worker','Exposure to camels','Camel milk consumption','Exposure to MERS-CoV cases'\n",
    ",'Day_diff'],\n",
    "                  variable_types={'Sex':'b','Health care worker':'d','Exposure to camels':'d','Camel milk consumption':'d','Exposure to MERS-CoV cases':'b','Day_diff':'d','target':'b','Age':'b'})"
   ]
  },
  {
   "cell_type": "code",
   "execution_count": 24,
   "metadata": {},
   "outputs": [
    {
     "name": "stderr",
     "output_type": "stream",
     "text": [
      "WARNING:dowhy.causal_model:Causal Graph not provided. DoWhy will construct a graph based on data inputs.\n",
      "INFO:dowhy.causal_graph:If this is observed data (not from a randomized experiment), there might always be missing confounders. Adding a node named \"Unobserved Confounders\" to reflect this.\n",
      "INFO:dowhy.causal_model:Model to find the causal effect of treatment ['Exposure to MERS-CoV cases'] on outcome ['target']\n",
      "WARNING:dowhy.causal_graph:Warning: Pygraphviz cannot be loaded. Check that graphviz and pygraphviz are installed.\n",
      "INFO:dowhy.causal_graph:Using Matplotlib for plotting\n",
      "C:\\Users\\bless\\AppData\\Local\\Continuum\\anaconda3\\envs\\mma_2\\lib\\site-packages\\networkx\\drawing\\nx_pylab.py:579: MatplotlibDeprecationWarning: \n",
      "The iterable function was deprecated in Matplotlib 3.1 and will be removed in 3.3. Use np.iterable instead.\n",
      "  if not cb.iterable(width):\n",
      "C:\\Users\\bless\\AppData\\Local\\Continuum\\anaconda3\\envs\\mma_2\\lib\\site-packages\\networkx\\drawing\\nx_pylab.py:676: MatplotlibDeprecationWarning: \n",
      "The iterable function was deprecated in Matplotlib 3.1 and will be removed in 3.3. Use np.iterable instead.\n",
      "  if cb.iterable(node_size):  # many node sizes\n"
     ]
    },
    {
     "data": {
      "image/png": "[encoded data removed]",
      "text/plain": [
       "<Figure size 432x288 with 1 Axes>"
      ]
     },
     "metadata": {},
     "output_type": "display_data"
    }
   ],
   "source": [
    "model= CausalModel(\n",
    "        data=df,\n",
    "        treatment='Exposure to MERS-CoV cases',\n",
    "        outcome='target',\n",
    "        common_causes=['Sex','Health care worker','Exposure to camels','Camel milk consumption','Exposure to MERS-CoV cases'\n",
    ",'Day_diff'],\n",
    "        variable_typesvariable_types={'Sex':'b','Health care worker':'d','Exposure to camels':'d','Camel milk consumption':'d','Exposure to MERS-CoV cases':'b','Day_diff':'d','target':'b','Age':'b'},instruments=[])\n",
    "model.view_model(layout=\"dot\")"
   ]
  },
  {
   "cell_type": "code",
   "execution_count": 25,
   "metadata": {},
   "outputs": [
    {
     "data": {
      "image/png": "[encoded data removed]",
      "text/plain": [
       "<IPython.core.display.Image object>"
      ]
     },
     "metadata": {},
     "output_type": "display_data"
    }
   ],
   "source": [
    "from IPython.display import Image, display\n",
    "display(Image(filename=\"causal_model.png\"))"
   ]
  },
  {
   "cell_type": "code",
   "execution_count": 26,
   "metadata": {},
   "outputs": [
    {
     "name": "stderr",
     "output_type": "stream",
     "text": [
      "INFO:dowhy.causal_identifier:Common causes of treatment and outcome:['Health care worker', 'Day_diff', 'Camel milk consumption', 'Exposure to camels', 'U', 'Sex']\n",
      "WARNING:dowhy.causal_identifier:If this is observed data (not from a randomized experiment), there might always be missing confounders. Causal effect cannot be identified perfectly.\n",
      "INFO:dowhy.causal_identifier:Continuing by ignoring these unobserved confounders because proceed_when_unidentifiable flag is True.\n",
      "INFO:dowhy.causal_identifier:Instrumental variables for treatment and outcome:[]\n"
     ]
    },
    {
     "name": "stdout",
     "output_type": "stream",
     "text": [
      "Estimand type: nonparametric-ate\n",
      "### Estimand : 1\n",
      "Estimand name: backdoor\n",
      "Estimand expression:\n",
      "              d                                                               \n",
      "─────────────────────────────(Expectation(target|Health care worker,Day_diff,C\n",
      "d[Exposure to MERS-CoV cases]                                                 \n",
      "\n",
      "                                              \n",
      "amel milk consumption,Exposure to camels,Sex))\n",
      "                                              \n",
      "Estimand assumption 1, Unconfoundedness: If U→{Exposure to MERS-CoV cases} and U→target then P(target|Exposure to MERS-CoV cases,Health care worker,Day_diff,Camel milk consumption,Exposure to camels,Sex,U) = P(target|Exposure to MERS-CoV cases,Health care worker,Day_diff,Camel milk consumption,Exposure to camels,Sex)\n",
      "### Estimand : 2\n",
      "Estimand name: iv\n",
      "No such variable found!\n",
      "\n"
     ]
    }
   ],
   "source": [
    "identified_estimand = model.identify_effect(proceed_when_unidentifiable=True)\n",
    "print(identified_estimand)"
   ]
  },
  {
   "cell_type": "code",
   "execution_count": 27,
   "metadata": {},
   "outputs": [
    {
     "data": {
      "text/plain": [
       "<dowhy.causal_identifier.IdentifiedEstimand at 0x1f267878710>"
      ]
     },
     "execution_count": 27,
     "metadata": {},
     "output_type": "execute_result"
    }
   ],
   "source": [
    "identified_estimand"
   ]
  },
  {
   "cell_type": "code",
   "execution_count": 28,
   "metadata": {},
   "outputs": [
    {
     "name": "stderr",
     "output_type": "stream",
     "text": [
      "INFO:dowhy.causal_estimator:INFO: Using Propensity Score Stratification Estimator\n",
      "INFO:dowhy.causal_estimator:b: target~Exposure to MERS-CoV cases+Health care worker+Day_diff+Camel milk consumption+Exposure to camels+Sex\n"
     ]
    },
    {
     "name": "stdout",
     "output_type": "stream",
     "text": [
      "*** Causal Estimate ***\n",
      "\n",
      "## Target estimand\n",
      "Estimand type: nonparametric-ate\n",
      "### Estimand : 1\n",
      "Estimand name: backdoor\n",
      "Estimand expression:\n",
      "              d                                                               \n",
      "─────────────────────────────(Expectation(target|Health care worker,Day_diff,C\n",
      "d[Exposure to MERS-CoV cases]                                                 \n",
      "\n",
      "                                              \n",
      "amel milk consumption,Exposure to camels,Sex))\n",
      "                                              \n",
      "Estimand assumption 1, Unconfoundedness: If U→{Exposure to MERS-CoV cases} and U→target then P(target|Exposure to MERS-CoV cases,Health care worker,Day_diff,Camel milk consumption,Exposure to camels,Sex,U) = P(target|Exposure to MERS-CoV cases,Health care worker,Day_diff,Camel milk consumption,Exposure to camels,Sex)\n",
      "### Estimand : 2\n",
      "Estimand name: iv\n",
      "No such variable found!\n",
      "\n",
      "## Realized estimand\n",
      "b: target~Exposure to MERS-CoV cases+Health care worker+Day_diff+Camel milk consumption+Exposure to camels+Sex\n",
      "## Estimate\n",
      "Value: 0.2879822797354763\n",
      "\n",
      "Causal Estimate is 0.2879822797354763\n"
     ]
    },
    {
     "name": "stderr",
     "output_type": "stream",
     "text": [
      "C:\\Users\\bless\\AppData\\Local\\Continuum\\anaconda3\\envs\\mma_2\\lib\\site-packages\\sklearn\\linear_model\\logistic.py:432: FutureWarning: Default solver will be changed to 'lbfgs' in 0.22. Specify a solver to silence this warning.\n",
      "  FutureWarning)\n",
      "C:\\Users\\bless\\AppData\\Local\\Continuum\\anaconda3\\envs\\mma_2\\lib\\site-packages\\sklearn\\utils\\validation.py:724: DataConversionWarning: A column-vector y was passed when a 1d array was expected. Please change the shape of y to (n_samples, ), for example using ravel().\n",
      "  y = column_or_1d(y, warn=True)\n",
      "C:\\Users\\bless\\AppData\\Local\\Continuum\\anaconda3\\envs\\mma_2\\lib\\site-packages\\pandas\\core\\computation\\expressions.py:183: UserWarning: evaluating in Python space because the '*' operator is not supported by numexpr for the bool dtype, use '&' instead\n",
      "  .format(op=op_str, alt_op=unsupported[op_str]))\n"
     ]
    }
   ],
   "source": [
    "causal_estimate = model.estimate_effect(identified_estimand,method_name=\"backdoor.propensity_score_stratification\")\n",
    "print(causal_estimate)\n",
    "print(\"Causal Estimate is \" + str(causal_estimate.value))"
   ]
  },
  {
   "cell_type": "code",
   "execution_count": 29,
   "metadata": {},
   "outputs": [
    {
     "name": "stderr",
     "output_type": "stream",
     "text": [
      "INFO:dowhy.causal_estimator:INFO: Using Propensity Score Stratification Estimator\n",
      "INFO:dowhy.causal_estimator:b: target~Exposure to MERS-CoV cases+Health care worker+Day_diff+Camel milk consumption+Exposure to camels+Sex\n"
     ]
    },
    {
     "name": "stdout",
     "output_type": "stream",
     "text": [
      "*** Causal Estimate ***\n",
      "\n",
      "## Target estimand\n",
      "Estimand type: nonparametric-ate\n",
      "### Estimand : 1\n",
      "Estimand name: backdoor\n",
      "Estimand expression:\n",
      "              d                                                               \n",
      "─────────────────────────────(Expectation(target|Health care worker,Day_diff,C\n",
      "d[Exposure to MERS-CoV cases]                                                 \n",
      "\n",
      "                                              \n",
      "amel milk consumption,Exposure to camels,Sex))\n",
      "                                              \n",
      "Estimand assumption 1, Unconfoundedness: If U→{Exposure to MERS-CoV cases} and U→target then P(target|Exposure to MERS-CoV cases,Health care worker,Day_diff,Camel milk consumption,Exposure to camels,Sex,U) = P(target|Exposure to MERS-CoV cases,Health care worker,Day_diff,Camel milk consumption,Exposure to camels,Sex)\n",
      "### Estimand : 2\n",
      "Estimand name: iv\n",
      "No such variable found!\n",
      "\n",
      "## Realized estimand\n",
      "b: target~Exposure to MERS-CoV cases+Health care worker+Day_diff+Camel milk consumption+Exposure to camels+Sex\n",
      "## Estimate\n",
      "Value: 0.28312468492690307\n",
      "\n",
      "Causal Estimate is 0.28312468492690307\n"
     ]
    },
    {
     "name": "stderr",
     "output_type": "stream",
     "text": [
      "C:\\Users\\bless\\AppData\\Local\\Continuum\\anaconda3\\envs\\mma_2\\lib\\site-packages\\sklearn\\linear_model\\logistic.py:432: FutureWarning: Default solver will be changed to 'lbfgs' in 0.22. Specify a solver to silence this warning.\n",
      "  FutureWarning)\n",
      "C:\\Users\\bless\\AppData\\Local\\Continuum\\anaconda3\\envs\\mma_2\\lib\\site-packages\\sklearn\\utils\\validation.py:724: DataConversionWarning: A column-vector y was passed when a 1d array was expected. Please change the shape of y to (n_samples, ), for example using ravel().\n",
      "  y = column_or_1d(y, warn=True)\n",
      "C:\\Users\\bless\\AppData\\Local\\Continuum\\anaconda3\\envs\\mma_2\\lib\\site-packages\\pandas\\core\\computation\\expressions.py:183: UserWarning: evaluating in Python space because the '*' operator is not supported by numexpr for the bool dtype, use '&' instead\n",
      "  .format(op=op_str, alt_op=unsupported[op_str]))\n"
     ]
    }
   ],
   "source": [
    "# Causal effect on the control group (ATC)\n",
    "causal_estimate_att = model.estimate_effect(identified_estimand,\n",
    "        method_name=\"backdoor.propensity_score_stratification\",\n",
    "        target_units = \"atc\")\n",
    "print(causal_estimate_att)\n",
    "print(\"Causal Estimate is \" + str(causal_estimate_att.value))"
   ]
  },
  {
   "cell_type": "code",
   "execution_count": 30,
   "metadata": {},
   "outputs": [
    {
     "name": "stderr",
     "output_type": "stream",
     "text": [
      "INFO:dowhy.causal_estimator:INFO: Using Linear Regression Estimator\n",
      "INFO:dowhy.causal_estimator:b: target~Exposure to MERS-CoV cases+Health care worker+Day_diff+Camel milk consumption+Exposure to camels+Sex\n"
     ]
    },
    {
     "name": "stdout",
     "output_type": "stream",
     "text": [
      "*** Causal Estimate ***\n",
      "\n",
      "## Target estimand\n",
      "Estimand type: nonparametric-ate\n",
      "### Estimand : 1\n",
      "Estimand name: backdoor\n",
      "Estimand expression:\n",
      "              d                                                               \n",
      "─────────────────────────────(Expectation(target|Health care worker,Day_diff,C\n",
      "d[Exposure to MERS-CoV cases]                                                 \n",
      "\n",
      "                                              \n",
      "amel milk consumption,Exposure to camels,Sex))\n",
      "                                              \n",
      "Estimand assumption 1, Unconfoundedness: If U→{Exposure to MERS-CoV cases} and U→target then P(target|Exposure to MERS-CoV cases,Health care worker,Day_diff,Camel milk consumption,Exposure to camels,Sex,U) = P(target|Exposure to MERS-CoV cases,Health care worker,Day_diff,Camel milk consumption,Exposure to camels,Sex)\n",
      "### Estimand : 2\n",
      "Estimand name: iv\n",
      "No such variable found!\n",
      "\n",
      "## Realized estimand\n",
      "b: target~Exposure to MERS-CoV cases+Health care worker+Day_diff+Camel milk consumption+Exposure to camels+Sex\n",
      "## Estimate\n",
      "Value: 0.28240503177804743\n",
      "\n",
      "## Statistical Significance\n",
      "p-value: <0.001\n",
      "\n",
      "Causal Estimate is 0.28240503177804743\n"
     ]
    }
   ],
   "source": [
    "causal_estimate_reg = model.estimate_effect(identified_estimand,\n",
    "        method_name=\"backdoor.linear_regression\",\n",
    "        test_significance=True)\n",
    "print(causal_estimate_reg)\n",
    "print(\"Causal Estimate is \" + str(causal_estimate_reg.value))"
   ]
  },
  {
   "cell_type": "code",
   "execution_count": null,
   "metadata": {},
   "outputs": [],
   "source": []
  }
 ],
 "metadata": {
  "kernelspec": {
   "display_name": "Python 3",
   "language": "python",
   "name": "python3"
  },
  "language_info": {
   "codemirror_mode": {
    "name": "ipython",
    "version": 3
   },
   "file_extension": ".py",
   "mimetype": "text/x-python",
   "name": "python",
   "nbconvert_exporter": "python",
   "pygments_lexer": "ipython3",
   "version": "3.7.3"
  }
 },
 "nbformat": 4,
 "nbformat_minor": 2
}
